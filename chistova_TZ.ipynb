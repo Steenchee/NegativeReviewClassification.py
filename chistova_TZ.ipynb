{
 "cells": [
  {
   "cell_type": "markdown",
   "id": "15e3b63d",
   "metadata": {},
   "source": [
    "# Предобработка датасета"
   ]
  },
  {
   "cell_type": "markdown",
   "id": "a91cfd1b",
   "metadata": {},
   "source": [
    "Подключение библиотек"
   ]
  },
  {
   "cell_type": "code",
   "execution_count": 1,
   "id": "30da1e69",
   "metadata": {},
   "outputs": [],
   "source": [
    "import pandas as pd\n",
    "import spacy\n",
    "from nltk.corpus import stopwords\n",
    "from tqdm.auto import tqdm, trange"
   ]
  },
  {
   "cell_type": "markdown",
   "id": "7969a615",
   "metadata": {},
   "source": [
    "Чтение датасета"
   ]
  },
  {
   "cell_type": "code",
   "execution_count": 2,
   "id": "e509ae76",
   "metadata": {},
   "outputs": [],
   "source": [
    "dataset = pd.read_excel('М.Тех_ТЗ_Датасет_DS_NLP.xlsx', index_col=0)"
   ]
  },
  {
   "cell_type": "markdown",
   "id": "fccec739",
   "metadata": {},
   "source": [
    "### Предобработка текста отзывов"
   ]
  },
  {
   "cell_type": "markdown",
   "id": "98624df6",
   "metadata": {},
   "source": [
    "Удаление знаков препинания"
   ]
  },
  {
   "cell_type": "code",
   "execution_count": 3,
   "id": "59d02943",
   "metadata": {},
   "outputs": [],
   "source": [
    "dataset['text_clean'] = dataset['text'].replace(r'[^\\w\\s]', ' ', regex=True).replace(r'\\s+', ' ', regex=True).str.lower()"
   ]
  },
  {
   "cell_type": "markdown",
   "id": "b0eff05f",
   "metadata": {},
   "source": [
    "Лемматизация"
   ]
  },
  {
   "cell_type": "code",
   "execution_count": 4,
   "id": "6c86c848",
   "metadata": {},
   "outputs": [],
   "source": [
    "nlp = spacy.load(\"ru_core_news_lg\")\n",
    "lemma = []\n",
    "for doc in nlp.pipe(dataset[\"text_clean\"].values):\n",
    "    lemma.append([n.lemma_ for n in doc])\n",
    "dataset['text_clean_lemma'] = lemma"
   ]
  },
  {
   "cell_type": "markdown",
   "id": "6141ec6a",
   "metadata": {},
   "source": [
    "Удаление стоп-слов"
   ]
  },
  {
   "cell_type": "code",
   "execution_count": 5,
   "id": "839f76be",
   "metadata": {},
   "outputs": [],
   "source": [
    "stopwords_ru = stopwords.words(\"russian\")\n",
    "dataset['text_clean_lemma'] = dataset['text_clean_lemma'].apply(lambda x: [item for item in x if item not in stopwords_ru])\n",
    "dataset['text_clean_lemma_as_str'] = [' '.join(map(str, l)) for l in dataset['text_clean_lemma']]"
   ]
  },
  {
   "cell_type": "code",
   "execution_count": 6,
   "id": "8b94d250",
   "metadata": {},
   "outputs": [],
   "source": [
    "dataset.drop([\"id\", \"text\", 'text_clean', 'text_clean_lemma'], axis=1, inplace=True) # удаляю лишние колонки\n",
    "dataset[\"class id\"] = dataset['class'].replace(dataset['class'].unique(), range(8)) # добавляю id меток классов\n"
   ]
  },
  {
   "cell_type": "code",
   "execution_count": 7,
   "id": "5bb5f5b9",
   "metadata": {},
   "outputs": [],
   "source": [
    "dataset.to_csv('CleanedData.csv', sep='\\t', encoding='utf-8') # сохраняю новый файл с подготовленной датой"
   ]
  },
  {
   "cell_type": "markdown",
   "id": "aa34a575",
   "metadata": {},
   "source": [
    "# Реализация модели классификации негативных отзывов"
   ]
  },
  {
   "cell_type": "markdown",
   "id": "4aede28c",
   "metadata": {},
   "source": [
    "Подключение библиотек"
   ]
  },
  {
   "cell_type": "code",
   "execution_count": 8,
   "id": "8a4ac031",
   "metadata": {},
   "outputs": [],
   "source": [
    "import matplotlib.pyplot as plt"
   ]
  },
  {
   "cell_type": "markdown",
   "id": "f7550084",
   "metadata": {},
   "source": [
    "Подключение подготовленного датасета"
   ]
  },
  {
   "cell_type": "code",
   "execution_count": 9,
   "id": "e5db4282",
   "metadata": {},
   "outputs": [],
   "source": [
    "dataset = pd.read_csv('CleanedData.csv', sep='\\t', encoding='utf-8')"
   ]
  },
  {
   "cell_type": "markdown",
   "id": "5f6bffcf",
   "metadata": {},
   "source": [
    "Pаспределение отзывов по меткам"
   ]
  },
  {
   "cell_type": "code",
   "execution_count": 10,
   "id": "9d6c7764",
   "metadata": {},
   "outputs": [
    {
     "data": {
      "image/png": "[encoded data removed]",
      "text/plain": [
       "<Figure size 640x480 with 1 Axes>"
      ]
     },
     "metadata": {},
     "output_type": "display_data"
    }
   ],
   "source": [
    "am = dataset['class id'].value_counts()\n",
    "dataset['class id'].value_counts().plot(kind='bar', xlabel='id класса', ylabel='частота')\n",
    "plt.show()"
   ]
  },
  {
   "cell_type": "markdown",
   "id": "295b1943",
   "metadata": {},
   "source": [
    "### Разделение датасета на тренировочную и тестовую выборки"
   ]
  },
  {
   "cell_type": "markdown",
   "id": "6a6e2c2b",
   "metadata": {},
   "source": [
    "Подключение библиотек"
   ]
  },
  {
   "cell_type": "code",
   "execution_count": 11,
   "id": "5f467e6c",
   "metadata": {},
   "outputs": [],
   "source": [
    "from sklearn.model_selection import train_test_split\n",
    "from sklearn.feature_extraction.text import CountVectorizer, TfidfVectorizer"
   ]
  },
  {
   "cell_type": "code",
   "execution_count": 12,
   "id": "d646dc5d",
   "metadata": {},
   "outputs": [],
   "source": [
    "def cv(data):\n",
    "    count_vectorizer = CountVectorizer()\n",
    "    emb = count_vectorizer.fit_transform(data)\n",
    "    return emb, count_vectorizer\n",
    "X_train, X_test = train_test_split(dataset, test_size=0.2, random_state=40, stratify=dataset['class'])\n",
    "\n",
    "y_train = X_train[\"class id\"].tolist()\n",
    "X_train = X_train[\"text_clean_lemma_as_str\"].tolist()\n",
    "y_test = X_test[\"class id\"].tolist()\n",
    "X_test = X_test[\"text_clean_lemma_as_str\"].tolist()\n",
    "\n",
    "X_train_counts, count_vectorizer = cv(X_train)\n",
    "X_test_counts = count_vectorizer.transform(X_test)"
   ]
  },
  {
   "cell_type": "markdown",
   "id": "69aac6fe",
   "metadata": {},
   "source": [
    "Реализация метрики f1 для оценки точности работы модели"
   ]
  },
  {
   "cell_type": "code",
   "execution_count": 13,
   "id": "bc507d24",
   "metadata": {},
   "outputs": [
    {
     "name": "stdout",
     "output_type": "stream",
     "text": [
      "CPU times: total: 0 ns\n",
      "Wall time: 0 ns\n"
     ]
    }
   ],
   "source": [
    "%%time\n",
    "from sklearn.metrics import accuracy_score, f1_score, precision_score, recall_score, classification_report\n",
    "def get_metrics(y_test, y_predicted):\n",
    "    # true positives / (true positives+false positives)\n",
    "    precision = precision_score(y_test, y_predicted, pos_label=None, average='weighted')\n",
    "    # true positives / (true positives + false negatives)\n",
    "    recall = recall_score(y_test, y_predicted, pos_label=None, average='weighted')\n",
    "\n",
    "    # harmonic mean of precision and recall\n",
    "    f1 = f1_score(y_test, y_predicted, pos_label=None, average='weighted')\n",
    "\n",
    "    # true positives + true negatives/ total\n",
    "    accuracy = accuracy_score(y_test, y_predicted)\n",
    "    \n",
    "    return accuracy, precision, recall, f1"
   ]
  },
  {
   "cell_type": "code",
   "execution_count": 14,
   "id": "6df24af3",
   "metadata": {},
   "outputs": [
    {
     "name": "stdout",
     "output_type": "stream",
     "text": [
      "accuracy = 0.803, precision = 0.804, recall = 0.803, f1 = 0.803\n",
      "CPU times: total: 62.5 ms\n",
      "Wall time: 3.09 s\n"
     ]
    }
   ],
   "source": [
    "%%time\n",
    "# логистическия регрессия\n",
    "from sklearn.linear_model import LogisticRegression\n",
    "\n",
    "clf = LogisticRegression(C=30.0, class_weight='balanced', solver='newton-cg',\n",
    "                         multi_class='multinomial', n_jobs=-1, random_state=40)\n",
    "clf.fit(X_train_counts, y_train)\n",
    "y_predicted_counts = clf.predict(X_test_counts)\n",
    "\n",
    "accuracy, precision, recall, f1 = get_metrics(y_test, y_predicted_counts)\n",
    "print(\"accuracy = %.3f, precision = %.3f, recall = %.3f, f1 = %.3f\" % (accuracy, precision, recall, f1))"
   ]
  },
  {
   "cell_type": "code",
   "execution_count": 15,
   "id": "049338d7",
   "metadata": {},
   "outputs": [
    {
     "name": "stdout",
     "output_type": "stream",
     "text": [
      "accuracy = 0.680, precision = 0.738, recall = 0.680, f1 = 0.664\n",
      "CPU times: total: 31.2 ms\n",
      "Wall time: 24 ms\n"
     ]
    }
   ],
   "source": [
    "%%time\n",
    "# наивный байес\n",
    "from sklearn.naive_bayes import MultinomialNB\n",
    "\n",
    "clf = MultinomialNB()\n",
    "clf.fit(X_train_counts, y_train)\n",
    "y_predicted_counts = clf.predict(X_test_counts)\n",
    "\n",
    "accuracy, precision, recall, f1 = get_metrics(y_test, y_predicted_counts)\n",
    "print(\"accuracy = %.3f, precision = %.3f, recall = %.3f, f1 = %.3f\" % (accuracy, precision, recall, f1))\n",
    "\n",
    "\n"
   ]
  },
  {
   "cell_type": "code",
   "execution_count": 16,
   "id": "a13d9001",
   "metadata": {},
   "outputs": [
    {
     "name": "stdout",
     "output_type": "stream",
     "text": [
      "accuracy = 0.732, precision = 0.750, recall = 0.732, f1 = 0.715\n",
      "CPU times: total: 2.44 s\n",
      "Wall time: 2.82 s\n"
     ]
    }
   ],
   "source": [
    "%%time\n",
    "from sklearn.ensemble import RandomForestClassifier\n",
    "clf = RandomForestClassifier()\n",
    "clf.fit(X_train_counts, y_train)\n",
    "y_predicted_counts = clf.predict(X_test_counts)\n",
    "\n",
    "accuracy, precision, recall, f1 = get_metrics(y_test, y_predicted_counts)\n",
    "print(\"accuracy = %.3f, precision = %.3f, recall = %.3f, f1 = %.3f\" % (accuracy, precision, recall, f1))\n"
   ]
  },
  {
   "cell_type": "code",
   "execution_count": 17,
   "id": "237e07e4",
   "metadata": {},
   "outputs": [
    {
     "name": "stdout",
     "output_type": "stream",
     "text": [
      "accuracy = 0.775, precision = 0.776, recall = 0.775, f1 = 0.774\n",
      "CPU times: total: 234 ms\n",
      "Wall time: 153 ms\n"
     ]
    }
   ],
   "source": [
    "%%time\n",
    "from sklearn.linear_model import SGDClassifier\n",
    "clf = SGDClassifier()\n",
    "clf.fit(X_train_counts, y_train)\n",
    "y_predicted_counts = clf.predict(X_test_counts)\n",
    "\n",
    "accuracy, precision, recall, f1 = get_metrics(y_test, y_predicted_counts)\n",
    "print(\"accuracy = %.3f, precision = %.3f, recall = %.3f, f1 = %.3f\" % (accuracy, precision, recall, f1))"
   ]
  },
  {
   "cell_type": "markdown",
   "id": "36f0aec8",
   "metadata": {},
   "source": [
    "Из протестированных алгоритмов (LogisticRegression, MultinomialNB, RandomForestClassifier, SGDClassifier) по метрике f1 лучший результат показала логистическая регрессия (LogisticRegression), вследствие чего и была выбрана как модель."
   ]
  },
  {
   "cell_type": "markdown",
   "id": "27744fe3",
   "metadata": {},
   "source": [
    "Обучение модели на всем подготовленной датасете"
   ]
  },
  {
   "cell_type": "code",
   "execution_count": 18,
   "id": "36bf66f6",
   "metadata": {},
   "outputs": [],
   "source": [
    "from joblib import dump, load"
   ]
  },
  {
   "cell_type": "code",
   "execution_count": 19,
   "id": "e277219b",
   "metadata": {},
   "outputs": [
    {
     "data": {
      "text/plain": [
       "['model.joblib']"
      ]
     },
     "execution_count": 19,
     "metadata": {},
     "output_type": "execute_result"
    }
   ],
   "source": [
    "X_train = dataset[\"text_clean_lemma_as_str\"].tolist()\n",
    "y_train = dataset[\"class id\"].tolist()\n",
    "\n",
    "X_train_counts, count_vectorizer = cv(X_train)\n",
    "dump(count_vectorizer, \"vectorizer.pkl\") # сохранение класса со словарем\n",
    "clf = LogisticRegression(C=30.0, class_weight='balanced', solver='newton-cg',\n",
    "                         multi_class='multinomial', n_jobs=-1, random_state=40)\n",
    "clf.fit(X_train_counts, y_train)\n",
    "dump(clf, 'model.joblib') # сохранение модели"
   ]
  },
  {
   "cell_type": "markdown",
   "id": "dcef4cb7",
   "metadata": {},
   "source": [
    "Реализация функции get_result"
   ]
  },
  {
   "cell_type": "code",
   "execution_count": 20,
   "id": "3377df42",
   "metadata": {},
   "outputs": [],
   "source": [
    "def get_result(text):\n",
    "    text = text.replace(r'[^\\w\\s]', ' ', regex=True).replace(r'\\s+', ' ', regex=True).str.lower()\n",
    "    # лемматизация\n",
    "    nlp = spacy.load(\"ru_core_news_lg\")\n",
    "    lemma = []\n",
    "    for doc in nlp.pipe(text.values):\n",
    "        lemma.append([n.lemma_ for n in doc])\n",
    "    text = pd.Series(lemma)\n",
    "    # убираем стоп-слова\n",
    "    stopwords_ru = stopwords.words(\"russian\")\n",
    "    text = text.apply(lambda x: [item for item in x if item not in stopwords_ru])\n",
    "    text = [' '.join(map(str, l)) for l in text]\n",
    "    # разделение данных\n",
    "    count_vectorizer = load('vectorizer.pkl')\n",
    "    X_test_counts = count_vectorizer.transform(text)\n",
    "    clf = load('model.joblib')\n",
    "    list = ['Консультация КЦ', 'Компетентность продавцов/ консультантов',\n",
    "            'Электронная очередь', 'Доступность персонала в магазине',\n",
    "            'Вежливость сотрудников магазина', 'Обслуживание на кассе',\n",
    "            'Обслуживание продавцами/ консультантами',\n",
    "            'Время ожидания у кассы']\n",
    "    y_predicted_counts = pd.Series(clf.predict(X_test_counts))\n",
    "    y_predicted_counts = y_predicted_counts.replace(range(8), list)\n",
    "    return y_predicted_counts"
   ]
  },
  {
   "cell_type": "code",
   "execution_count": 24,
   "id": "b792c386",
   "metadata": {},
   "outputs": [
    {
     "name": "stdout",
     "output_type": "stream",
     "text": [
      "0                        Мальчики грубые ругают кричат\n",
      "1     Ждала 10 часов у кассы, а кассир-то и не пришел!\n",
      "2    Сдачу не дали, сказали размена не, мдаа ну и к...\n",
      "3               Консультанты сами не знают что продают\n",
      "dtype: object\n",
      "0            Вежливость сотрудников магазина\n",
      "1                      Обслуживание на кассе\n",
      "2                      Обслуживание на кассе\n",
      "3    Компетентность продавцов/ консультантов\n",
      "dtype: object\n"
     ]
    }
   ],
   "source": [
    "test = pd.Series(['Мальчики грубые ругают кричат',\n",
    "                   'Ждала 10 часов у кассы, а кассир-то и не пришел!',\n",
    "                   'Сдачу не дали, сказали размена не, мдаа ну и кассиры !!!',\n",
    "                   'Консультанты сами не знают что продают'])\n",
    "print(test)\n",
    "print(get_result(test))"
   ]
  },
  {
   "cell_type": "code",
   "execution_count": null,
   "id": "8ea05999",
   "metadata": {},
   "outputs": [],
   "source": []
  }
 ],
 "metadata": {
  "kernelspec": {
   "display_name": "Python 3 (ipykernel)",
   "language": "python",
   "name": "python3"
  },
  "language_info": {
   "codemirror_mode": {
    "name": "ipython",
    "version": 3
   },
   "file_extension": ".py",
   "mimetype": "text/x-python",
   "name": "python",
   "nbconvert_exporter": "python",
   "pygments_lexer": "ipython3",
   "version": "3.9.12"
  }
 },
 "nbformat": 4,
 "nbformat_minor": 5
}
